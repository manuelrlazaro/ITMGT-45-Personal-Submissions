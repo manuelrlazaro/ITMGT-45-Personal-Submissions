{
 "cells": [
  {
   "cell_type": "code",
   "execution_count": 34,
   "id": "06f54261",
   "metadata": {},
   "outputs": [],
   "source": [
    "def savings(gross_pay = 200000, tax_rate = 0.125, expenses = 8000):\n",
    "    svgs_process1 = gross_pay -(round(gross_pay*tax_rate))\n",
    "    svgs_process2 = svgs_process1-expenses\n",
    "    savings = str(svgs_process2)\n",
    "    print(\"Employee Savings: \" + savings + \" Centavos\")\n",
    "    return\n",
    "\n",
    "def material_waste(total_material = 5000000, material_units = \"kg\", num_jobs = 67, job_consumption = 20000):\n",
    "    mat_process1 = num_jobs*job_consumption\n",
    "    mat_process2 = total_material-mat_process1 \n",
    "    material_waste = str(mat_process2)\n",
    "    print(\"The remaining number of material after \" + str(num_jobs) + \" jobs in \" + material_units + \" is: \" + material_waste + material_units)\n",
    "    return\n",
    "    \n",
    "\n",
    "def interest(principal = 200000000, rate = 0.05, periods = 6):\n",
    "    int_process1 = rate*periods\n",
    "    int_process2 = int_process1 * principal\n",
    "    int_process3 = (int_process2 + principal)/100\n",
    "                     \n",
    "    print(\"The initial amount of your investment of \" + str(principal) + \" Centavos has generated \" + str(int_process2) + \" Centavos \")\n",
    "    print(\"The total amount of your investment is: \" + str(int_process3) + \" Pesos\")\n",
    "    return\n",
    "\n",
    "def body_mass_index(weight = 143, height = [5,5]):\n",
    "    conversion1 = weight*0.453592\n",
    "    height_1 = int(height[0])*0.3048\n",
    "    height_2 = (int(height[1])*0.0833333)*0.3048\n",
    "    conversion2 = height_1 + height_2\n",
    "    \n",
    "    final_comp = conversion1/(conversion2**2)\n",
    "    print(\"The calculated BMI results in: \" + str(final_comp))\n",
    "    return"
   ]
  },
  {
   "cell_type": "raw",
   "id": "4f2738ee",
   "metadata": {},
   "source": [
    "def savings"
   ]
  },
  {
   "cell_type": "code",
   "execution_count": 8,
   "id": "9067dffd",
   "metadata": {},
   "outputs": [
    {
     "name": "stdout",
     "output_type": "stream",
     "text": [
      "<function savings at 0x105fda8e0>\n"
     ]
    }
   ],
   "source": [
    "gross_pay = 200000\n",
    "tax_rate = 0.125\n",
    "expenses = 8000\n",
    "print(savings)"
   ]
  },
  {
   "cell_type": "code",
   "execution_count": 9,
   "id": "651016e8",
   "metadata": {},
   "outputs": [
    {
     "ename": "SyntaxError",
     "evalue": "invalid syntax (4021440381.py, line 2)",
     "output_type": "error",
     "traceback": [
      "\u001b[0;36m  Cell \u001b[0;32mIn[9], line 2\u001b[0;36m\u001b[0m\n\u001b[0;31m    return savings = ((round(gross_pay-(gross_pay*tax_rate)))-expenses)\u001b[0m\n\u001b[0m                   ^\u001b[0m\n\u001b[0;31mSyntaxError\u001b[0m\u001b[0;31m:\u001b[0m invalid syntax\n"
     ]
    }
   ],
   "source": [
    "def savings(gross_pay = 200000, tax_rate = 0.125, expenses = 8000):\n",
    "    return savings = ((round(gross_pay-(gross_pay*tax_rate)))-expenses)\n",
    "\n",
    "    print(\"Employee Savings: \"str(savings)+\" Centavos\")"
   ]
  },
  {
   "cell_type": "code",
   "execution_count": 11,
   "id": "b7d00612",
   "metadata": {},
   "outputs": [
    {
     "ename": "SyntaxError",
     "evalue": "invalid syntax. Perhaps you forgot a comma? (281838690.py, line 3)",
     "output_type": "error",
     "traceback": [
      "\u001b[0;36m  Cell \u001b[0;32mIn[11], line 3\u001b[0;36m\u001b[0m\n\u001b[0;31m    print(\"Employee Savings: \"str(savings)+\" Centavos\")\u001b[0m\n\u001b[0m          ^\u001b[0m\n\u001b[0;31mSyntaxError\u001b[0m\u001b[0;31m:\u001b[0m invalid syntax. Perhaps you forgot a comma?\n"
     ]
    }
   ],
   "source": [
    "def savings(gross_pay = 200000, tax_rate = 0.125, expenses = 8000):\n",
    "    savings = ((round(gross_pay-(gross_pay*tax_rate)))-expenses)\n",
    "    print(\"Employee Savings: \"str(savings)+\" Centavos\")"
   ]
  },
  {
   "cell_type": "code",
   "execution_count": 16,
   "id": "b88a2b60",
   "metadata": {},
   "outputs": [],
   "source": []
  },
  {
   "cell_type": "code",
   "execution_count": 17,
   "id": "f250053f",
   "metadata": {},
   "outputs": [
    {
     "name": "stdout",
     "output_type": "stream",
     "text": [
      "Employee Savings: 167000 Centavos\n"
     ]
    }
   ],
   "source": [
    "savings()"
   ]
  },
  {
   "cell_type": "code",
   "execution_count": 2,
   "id": "6df94a27",
   "metadata": {},
   "outputs": [
    {
     "name": "stdout",
     "output_type": "stream",
     "text": [
      "Employee Savings: 167000 Centavos\n"
     ]
    }
   ],
   "source": [
    "savings()"
   ]
  },
  {
   "cell_type": "code",
   "execution_count": 4,
   "id": "378f12b8",
   "metadata": {},
   "outputs": [
    {
     "name": "stdout",
     "output_type": "stream",
     "text": [
      "The remaining number of material after 67is: 3660000kg\n"
     ]
    }
   ],
   "source": [
    "material_waste()"
   ]
  },
  {
   "cell_type": "code",
   "execution_count": 5,
   "id": "297124b1",
   "metadata": {},
   "outputs": [
    {
     "name": "stdout",
     "output_type": "stream",
     "text": [
      "The remaining number of material after 67is: 3660000kg\n"
     ]
    }
   ],
   "source": [
    "material_waste()\n"
   ]
  },
  {
   "cell_type": "code",
   "execution_count": 1,
   "id": "11ff10b1",
   "metadata": {},
   "outputs": [
    {
     "ename": "NameError",
     "evalue": "name 'material_waste' is not defined",
     "output_type": "error",
     "traceback": [
      "\u001b[0;31m---------------------------------------------------------------------------\u001b[0m",
      "\u001b[0;31mNameError\u001b[0m                                 Traceback (most recent call last)",
      "Cell \u001b[0;32mIn[1], line 1\u001b[0m\n\u001b[0;32m----> 1\u001b[0m material_waste()\n",
      "\u001b[0;31mNameError\u001b[0m: name 'material_waste' is not defined"
     ]
    }
   ],
   "source": [
    "material_waste()"
   ]
  },
  {
   "cell_type": "code",
   "execution_count": 2,
   "id": "6e151441",
   "metadata": {},
   "outputs": [
    {
     "ename": "NameError",
     "evalue": "name 'savings' is not defined",
     "output_type": "error",
     "traceback": [
      "\u001b[0;31m---------------------------------------------------------------------------\u001b[0m",
      "\u001b[0;31mNameError\u001b[0m                                 Traceback (most recent call last)",
      "Cell \u001b[0;32mIn[2], line 1\u001b[0m\n\u001b[0;32m----> 1\u001b[0m savings()\n",
      "\u001b[0;31mNameError\u001b[0m: name 'savings' is not defined"
     ]
    }
   ],
   "source": [
    "savings()"
   ]
  },
  {
   "cell_type": "code",
   "execution_count": 4,
   "id": "ff73bc3e",
   "metadata": {},
   "outputs": [
    {
     "name": "stdout",
     "output_type": "stream",
     "text": [
      "The remaining number of material after 67in kg is: 3660000kg\n"
     ]
    }
   ],
   "source": [
    "material_waste()"
   ]
  },
  {
   "cell_type": "code",
   "execution_count": 6,
   "id": "2ba1e7b3",
   "metadata": {},
   "outputs": [
    {
     "name": "stdout",
     "output_type": "stream",
     "text": [
      "The remaining number of material after 67jobs in kg is: 3660000kg\n"
     ]
    }
   ],
   "source": [
    "material_waste()"
   ]
  },
  {
   "cell_type": "code",
   "execution_count": 8,
   "id": "d5b8d94e",
   "metadata": {},
   "outputs": [
    {
     "name": "stdout",
     "output_type": "stream",
     "text": [
      "The remaining number of material after 67 jobs in kg is: 3660000kg\n"
     ]
    }
   ],
   "source": [
    "material_waste()"
   ]
  },
  {
   "cell_type": "code",
   "execution_count": 11,
   "id": "8a4fe9f6",
   "metadata": {},
   "outputs": [
    {
     "name": "stdout",
     "output_type": "stream",
     "text": [
      "The initial amount of your investment of 200000000 has generated 60000000.00000001 Centavos \n",
      "The total amount of your investment is: 2600000.0 Pesos\n"
     ]
    }
   ],
   "source": [
    "interest()"
   ]
  },
  {
   "cell_type": "code",
   "execution_count": 13,
   "id": "aef6f925",
   "metadata": {},
   "outputs": [
    {
     "name": "stdout",
     "output_type": "stream",
     "text": [
      "The initial amount of your investment of 200000000 has generated 60000000.00000001 Centavos \n",
      "The total amount of your investment is: 2600000.0 Pesos\n"
     ]
    }
   ],
   "source": [
    "interest()"
   ]
  },
  {
   "cell_type": "code",
   "execution_count": 15,
   "id": "cfc8d45c",
   "metadata": {},
   "outputs": [
    {
     "name": "stdout",
     "output_type": "stream",
     "text": [
      "Employee Savings: 167000 Centavos\n"
     ]
    }
   ],
   "source": [
    "savings()"
   ]
  },
  {
   "cell_type": "code",
   "execution_count": 16,
   "id": "143bfedb",
   "metadata": {},
   "outputs": [
    {
     "name": "stdout",
     "output_type": "stream",
     "text": [
      "The remaining number of material after 67 jobs in kg is: 3660000kg\n"
     ]
    }
   ],
   "source": [
    "material_waste()"
   ]
  },
  {
   "cell_type": "code",
   "execution_count": 18,
   "id": "26b1e241",
   "metadata": {},
   "outputs": [
    {
     "ename": "TypeError",
     "evalue": "can only concatenate str (not \"float\") to str",
     "output_type": "error",
     "traceback": [
      "\u001b[0;31m---------------------------------------------------------------------------\u001b[0m",
      "\u001b[0;31mTypeError\u001b[0m                                 Traceback (most recent call last)",
      "Cell \u001b[0;32mIn[18], line 1\u001b[0m\n\u001b[0;32m----> 1\u001b[0m body_mass_index()\n",
      "Cell \u001b[0;32mIn[17], line 158\u001b[0m, in \u001b[0;36mbody_mass_index\u001b[0;34m(weight, height)\u001b[0m\n\u001b[1;32m    155\u001b[0m conversion2 \u001b[38;5;241m=\u001b[39m height_1 \u001b[38;5;241m+\u001b[39m height_2\n\u001b[1;32m    157\u001b[0m final_comp \u001b[38;5;241m=\u001b[39m conversion1\u001b[38;5;241m/\u001b[39m(conversion2\u001b[38;5;241m*\u001b[39m\u001b[38;5;241m*\u001b[39m\u001b[38;5;241m2\u001b[39m)\n\u001b[0;32m--> 158\u001b[0m \u001b[38;5;28mprint\u001b[39m(\u001b[38;5;124m\"\u001b[39m\u001b[38;5;124mThe calculated BMI results in: \u001b[39m\u001b[38;5;124m\"\u001b[39m \u001b[38;5;241m+\u001b[39m final_comp)\n\u001b[1;32m    159\u001b[0m \u001b[38;5;28;01mreturn\u001b[39;00m\n",
      "\u001b[0;31mTypeError\u001b[0m: can only concatenate str (not \"float\") to str"
     ]
    }
   ],
   "source": [
    "body_mass_index()"
   ]
  },
  {
   "cell_type": "code",
   "execution_count": 20,
   "id": "0036a4b1",
   "metadata": {},
   "outputs": [
    {
     "data": {
      "text/plain": [
       "<function __main__.body_mass_index(weight=143, height=[5, 5])>"
      ]
     },
     "execution_count": 20,
     "metadata": {},
     "output_type": "execute_result"
    }
   ],
   "source": [
    "body_mass_index"
   ]
  },
  {
   "cell_type": "code",
   "execution_count": 22,
   "id": "7bc333f5",
   "metadata": {},
   "outputs": [
    {
     "ename": "TypeError",
     "evalue": "can only concatenate str (not \"float\") to str",
     "output_type": "error",
     "traceback": [
      "\u001b[0;31m---------------------------------------------------------------------------\u001b[0m",
      "\u001b[0;31mTypeError\u001b[0m                                 Traceback (most recent call last)",
      "Cell \u001b[0;32mIn[22], line 1\u001b[0m\n\u001b[0;32m----> 1\u001b[0m body_mass_index()\n",
      "Cell \u001b[0;32mIn[17], line 158\u001b[0m, in \u001b[0;36mbody_mass_index\u001b[0;34m(weight, height)\u001b[0m\n\u001b[1;32m    155\u001b[0m conversion2 \u001b[38;5;241m=\u001b[39m height_1 \u001b[38;5;241m+\u001b[39m height_2\n\u001b[1;32m    157\u001b[0m final_comp \u001b[38;5;241m=\u001b[39m conversion1\u001b[38;5;241m/\u001b[39m(conversion2\u001b[38;5;241m*\u001b[39m\u001b[38;5;241m*\u001b[39m\u001b[38;5;241m2\u001b[39m)\n\u001b[0;32m--> 158\u001b[0m \u001b[38;5;28mprint\u001b[39m(\u001b[38;5;124m\"\u001b[39m\u001b[38;5;124mThe calculated BMI results in: \u001b[39m\u001b[38;5;124m\"\u001b[39m \u001b[38;5;241m+\u001b[39m final_comp)\n\u001b[1;32m    159\u001b[0m \u001b[38;5;28;01mreturn\u001b[39;00m\n",
      "\u001b[0;31mTypeError\u001b[0m: can only concatenate str (not \"float\") to str"
     ]
    }
   ],
   "source": [
    "body_mass_index()"
   ]
  },
  {
   "cell_type": "code",
   "execution_count": 24,
   "id": "e8fbd68b",
   "metadata": {},
   "outputs": [
    {
     "ename": "TypeError",
     "evalue": "can only concatenate str (not \"float\") to str",
     "output_type": "error",
     "traceback": [
      "\u001b[0;31m---------------------------------------------------------------------------\u001b[0m",
      "\u001b[0;31mTypeError\u001b[0m                                 Traceback (most recent call last)",
      "Cell \u001b[0;32mIn[24], line 1\u001b[0m\n\u001b[0;32m----> 1\u001b[0m body_mass_index()\n",
      "Cell \u001b[0;32mIn[17], line 158\u001b[0m, in \u001b[0;36mbody_mass_index\u001b[0;34m(weight, height)\u001b[0m\n\u001b[1;32m    155\u001b[0m conversion2 \u001b[38;5;241m=\u001b[39m height_1 \u001b[38;5;241m+\u001b[39m height_2\n\u001b[1;32m    157\u001b[0m final_comp \u001b[38;5;241m=\u001b[39m conversion1\u001b[38;5;241m/\u001b[39m(conversion2\u001b[38;5;241m*\u001b[39m\u001b[38;5;241m*\u001b[39m\u001b[38;5;241m2\u001b[39m)\n\u001b[0;32m--> 158\u001b[0m \u001b[38;5;28mprint\u001b[39m(\u001b[38;5;124m\"\u001b[39m\u001b[38;5;124mThe calculated BMI results in: \u001b[39m\u001b[38;5;124m\"\u001b[39m \u001b[38;5;241m+\u001b[39m final_comp)\n\u001b[1;32m    159\u001b[0m \u001b[38;5;28;01mreturn\u001b[39;00m\n",
      "\u001b[0;31mTypeError\u001b[0m: can only concatenate str (not \"float\") to str"
     ]
    }
   ],
   "source": [
    "body_mass_index()"
   ]
  },
  {
   "cell_type": "code",
   "execution_count": 26,
   "id": "a9b5bd01",
   "metadata": {},
   "outputs": [
    {
     "name": "stdout",
     "output_type": "stream",
     "text": [
      "The calculated BMI results in: 23.79618321059013\n"
     ]
    }
   ],
   "source": [
    "body_mass_index()"
   ]
  },
  {
   "cell_type": "code",
   "execution_count": 28,
   "id": "9a117fd8",
   "metadata": {},
   "outputs": [
    {
     "ename": "NameError",
     "evalue": "name 'process1' is not defined",
     "output_type": "error",
     "traceback": [
      "\u001b[0;31m---------------------------------------------------------------------------\u001b[0m",
      "\u001b[0;31mNameError\u001b[0m                                 Traceback (most recent call last)",
      "Cell \u001b[0;32mIn[28], line 1\u001b[0m\n\u001b[0;32m----> 1\u001b[0m savings()\n",
      "Cell \u001b[0;32mIn[27], line 10\u001b[0m, in \u001b[0;36msavings\u001b[0;34m(gross_pay, tax_rate, expenses)\u001b[0m\n\u001b[1;32m      8\u001b[0m \u001b[38;5;28;01mdef\u001b[39;00m \u001b[38;5;21msavings\u001b[39m(gross_pay \u001b[38;5;241m=\u001b[39m \u001b[38;5;241m200000\u001b[39m, tax_rate \u001b[38;5;241m=\u001b[39m \u001b[38;5;241m0.125\u001b[39m, expenses \u001b[38;5;241m=\u001b[39m \u001b[38;5;241m8000\u001b[39m):\n\u001b[1;32m      9\u001b[0m     svgs_process1 \u001b[38;5;241m=\u001b[39m gross_pay \u001b[38;5;241m-\u001b[39m(\u001b[38;5;28mround\u001b[39m(gross_pay\u001b[38;5;241m*\u001b[39mtax_rate))\n\u001b[0;32m---> 10\u001b[0m     svgs_process2 \u001b[38;5;241m=\u001b[39m process1\u001b[38;5;241m-\u001b[39mexpenses\n\u001b[1;32m     11\u001b[0m     savings \u001b[38;5;241m=\u001b[39m \u001b[38;5;28mstr\u001b[39m(svgs_process2)\n\u001b[1;32m     12\u001b[0m     \u001b[38;5;28mprint\u001b[39m(\u001b[38;5;124m\"\u001b[39m\u001b[38;5;124mEmployee Savings: \u001b[39m\u001b[38;5;124m\"\u001b[39m \u001b[38;5;241m+\u001b[39m savings \u001b[38;5;241m+\u001b[39m \u001b[38;5;124m\"\u001b[39m\u001b[38;5;124m Centavos\u001b[39m\u001b[38;5;124m\"\u001b[39m)\n",
      "\u001b[0;31mNameError\u001b[0m: name 'process1' is not defined"
     ]
    }
   ],
   "source": [
    "savings()"
   ]
  },
  {
   "cell_type": "code",
   "execution_count": 30,
   "id": "6bddaafd",
   "metadata": {},
   "outputs": [
    {
     "name": "stdout",
     "output_type": "stream",
     "text": [
      "Employee Savings: 167000 Centavos\n"
     ]
    }
   ],
   "source": [
    "savings()"
   ]
  },
  {
   "cell_type": "code",
   "execution_count": 31,
   "id": "39a86154",
   "metadata": {},
   "outputs": [
    {
     "ename": "NameError",
     "evalue": "name 'process1' is not defined",
     "output_type": "error",
     "traceback": [
      "\u001b[0;31m---------------------------------------------------------------------------\u001b[0m",
      "\u001b[0;31mNameError\u001b[0m                                 Traceback (most recent call last)",
      "Cell \u001b[0;32mIn[31], line 1\u001b[0m\n\u001b[0;32m----> 1\u001b[0m material_waste()\n",
      "Cell \u001b[0;32mIn[29], line 17\u001b[0m, in \u001b[0;36mmaterial_waste\u001b[0;34m(total_material, material_units, num_jobs, job_consumption)\u001b[0m\n\u001b[1;32m     15\u001b[0m \u001b[38;5;28;01mdef\u001b[39;00m \u001b[38;5;21mmaterial_waste\u001b[39m(total_material \u001b[38;5;241m=\u001b[39m \u001b[38;5;241m5000000\u001b[39m, material_units \u001b[38;5;241m=\u001b[39m \u001b[38;5;124m\"\u001b[39m\u001b[38;5;124mkg\u001b[39m\u001b[38;5;124m\"\u001b[39m, num_jobs \u001b[38;5;241m=\u001b[39m \u001b[38;5;241m67\u001b[39m, job_consumption \u001b[38;5;241m=\u001b[39m \u001b[38;5;241m20000\u001b[39m):\n\u001b[1;32m     16\u001b[0m     mat_process1 \u001b[38;5;241m=\u001b[39m num_jobs\u001b[38;5;241m*\u001b[39mjob_consumption\n\u001b[0;32m---> 17\u001b[0m     mat_process2 \u001b[38;5;241m=\u001b[39m total_material\u001b[38;5;241m-\u001b[39mprocess1 \n\u001b[1;32m     18\u001b[0m     material_waste \u001b[38;5;241m=\u001b[39m \u001b[38;5;28mstr\u001b[39m(process2)\n\u001b[1;32m     19\u001b[0m     \u001b[38;5;28mprint\u001b[39m(\u001b[38;5;124m\"\u001b[39m\u001b[38;5;124mThe remaining number of material after \u001b[39m\u001b[38;5;124m\"\u001b[39m \u001b[38;5;241m+\u001b[39m \u001b[38;5;28mstr\u001b[39m(num_jobs) \u001b[38;5;241m+\u001b[39m \u001b[38;5;124m\"\u001b[39m\u001b[38;5;124m jobs in \u001b[39m\u001b[38;5;124m\"\u001b[39m \u001b[38;5;241m+\u001b[39m material_units \u001b[38;5;241m+\u001b[39m \u001b[38;5;124m\"\u001b[39m\u001b[38;5;124m is: \u001b[39m\u001b[38;5;124m\"\u001b[39m \u001b[38;5;241m+\u001b[39m material_waste \u001b[38;5;241m+\u001b[39m material_units)\n",
      "\u001b[0;31mNameError\u001b[0m: name 'process1' is not defined"
     ]
    }
   ],
   "source": [
    "material_waste()"
   ]
  },
  {
   "cell_type": "code",
   "execution_count": 33,
   "id": "a792dc16",
   "metadata": {},
   "outputs": [
    {
     "ename": "NameError",
     "evalue": "name 'process2' is not defined",
     "output_type": "error",
     "traceback": [
      "\u001b[0;31m---------------------------------------------------------------------------\u001b[0m",
      "\u001b[0;31mNameError\u001b[0m                                 Traceback (most recent call last)",
      "Cell \u001b[0;32mIn[33], line 1\u001b[0m\n\u001b[0;32m----> 1\u001b[0m material_waste()\n",
      "Cell \u001b[0;32mIn[32], line 18\u001b[0m, in \u001b[0;36mmaterial_waste\u001b[0;34m(total_material, material_units, num_jobs, job_consumption)\u001b[0m\n\u001b[1;32m     16\u001b[0m mat_process1 \u001b[38;5;241m=\u001b[39m num_jobs\u001b[38;5;241m*\u001b[39mjob_consumption\n\u001b[1;32m     17\u001b[0m mat_process2 \u001b[38;5;241m=\u001b[39m total_material\u001b[38;5;241m-\u001b[39mmat_process1 \n\u001b[0;32m---> 18\u001b[0m material_waste \u001b[38;5;241m=\u001b[39m \u001b[38;5;28mstr\u001b[39m(process2)\n\u001b[1;32m     19\u001b[0m \u001b[38;5;28mprint\u001b[39m(\u001b[38;5;124m\"\u001b[39m\u001b[38;5;124mThe remaining number of material after \u001b[39m\u001b[38;5;124m\"\u001b[39m \u001b[38;5;241m+\u001b[39m \u001b[38;5;28mstr\u001b[39m(num_jobs) \u001b[38;5;241m+\u001b[39m \u001b[38;5;124m\"\u001b[39m\u001b[38;5;124m jobs in \u001b[39m\u001b[38;5;124m\"\u001b[39m \u001b[38;5;241m+\u001b[39m material_units \u001b[38;5;241m+\u001b[39m \u001b[38;5;124m\"\u001b[39m\u001b[38;5;124m is: \u001b[39m\u001b[38;5;124m\"\u001b[39m \u001b[38;5;241m+\u001b[39m material_waste \u001b[38;5;241m+\u001b[39m material_units)\n\u001b[1;32m     20\u001b[0m \u001b[38;5;28;01mreturn\u001b[39;00m\n",
      "\u001b[0;31mNameError\u001b[0m: name 'process2' is not defined"
     ]
    }
   ],
   "source": [
    "material_waste()"
   ]
  },
  {
   "cell_type": "code",
   "execution_count": 35,
   "id": "c8f48c87",
   "metadata": {},
   "outputs": [
    {
     "name": "stdout",
     "output_type": "stream",
     "text": [
      "The remaining number of material after 67 jobs in kg is: 3660000kg\n"
     ]
    }
   ],
   "source": [
    "material_waste()"
   ]
  },
  {
   "cell_type": "code",
   "execution_count": 36,
   "id": "9a49cdfd",
   "metadata": {},
   "outputs": [
    {
     "name": "stdout",
     "output_type": "stream",
     "text": [
      "The initial amount of your investment of 200000000 Centavos has generated 60000000.00000001 Centavos \n",
      "The total amount of your investment is: 2600000.0 Pesos\n"
     ]
    }
   ],
   "source": [
    "interest()"
   ]
  },
  {
   "cell_type": "code",
   "execution_count": 37,
   "id": "80f23d4d",
   "metadata": {},
   "outputs": [
    {
     "name": "stdout",
     "output_type": "stream",
     "text": [
      "The calculated BMI results in: 23.79618321059013\n"
     ]
    }
   ],
   "source": [
    "body_mass_index()"
   ]
  },
  {
   "cell_type": "code",
   "execution_count": null,
   "id": "95e826bb",
   "metadata": {},
   "outputs": [],
   "source": []
  }
 ],
 "metadata": {
  "kernelspec": {
   "display_name": "Python 3 (ipykernel)",
   "language": "python",
   "name": "python3"
  },
  "language_info": {
   "codemirror_mode": {
    "name": "ipython",
    "version": 3
   },
   "file_extension": ".py",
   "mimetype": "text/x-python",
   "name": "python",
   "nbconvert_exporter": "python",
   "pygments_lexer": "ipython3",
   "version": "3.11.4"
  }
 },
 "nbformat": 4,
 "nbformat_minor": 5
}
